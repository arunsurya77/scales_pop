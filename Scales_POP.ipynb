{
 "cells": [
  {
   "cell_type": "code",
   "execution_count": 3,
   "metadata": {},
   "outputs": [],
   "source": [
    "import matplotlib.pyplot as plt\n",
    "import numpy as np\n",
    "import poppy\n",
    "from poppy.poppy_core import PlaneType\n",
    "import astropy.units as u"
   ]
  },
  {
   "cell_type": "code",
   "execution_count": 4,
   "metadata": {},
   "outputs": [],
   "source": [
    "#Diameter of the lenslet\n",
    "diamlens = 10000 * u.micron\n",
    "diamlens = 341 * u.micron\n",
    "\n",
    "fl_pri = 4410 * u.m #\n",
    "\n",
    "#focal length of the lenslet\n",
    "fl_lens = 2.728 * u.mm #1.301\n",
    "\n",
    "#Distance primary to lenslet //same as foacl length for f/350\n",
    "d_pr_to_l = 4410 * u.m\n"
   ]
  },
  {
   "cell_type": "code",
   "execution_count": null,
   "metadata": {},
   "outputs": [],
   "source": [
    "scales = poppy.FresnelOpticalSystem(pupil_diameter=100*u.m, npix=256, beam_ratio=0.10)\n",
    "m1 = poppy.QuadraticLens(fl_pri, name='Primary')\n",
    "m2 = poppy.QuadraticLens(fl_lens, name='Lenslet')\n",
    "\n",
    "ap = poppy.MultiHexagonAperture(rings=3, flattoflat=1.8,gap=0.1)  #telescope aperture\n",
    "\n",
    "scales.add_optic(ap)\n",
    "scales.add_optic(poppy.SecondaryObscuration(secondary_radius=0.5*u.m))\n",
    "scales.add_optic(m1)\n",
    "\n",
    "scales.add_optic(poppy.SquareAperture(size=diamlens),distance=d_pr_to_l)\n",
    "scales.add_optic(m2)\n",
    "\n",
    "scales.add_optic(poppy.ScalarTransmission(planetype=PlaneType.pupil, name='focus'),distance=2.728*u.mm);\n",
    "\n",
    "\n",
    "psf, planes = scales.propagate_mono(wavelength=3.0*u.micron, display_intermediates=False, retain_intermediates=False)\n"
   ]
  },
  {
   "cell_type": "code",
   "execution_count": 1,
   "metadata": {},
   "outputs": [
    {
     "ename": "NameError",
     "evalue": "name 'psf' is not defined",
     "output_type": "error",
     "traceback": [
      "\u001b[0;31m---------------------------------------------------------------------------\u001b[0m",
      "\u001b[0;31mNameError\u001b[0m                                 Traceback (most recent call last)",
      "\u001b[0;32m<ipython-input-1-1d2d86ba913c>\u001b[0m in \u001b[0;36m<module>\u001b[0;34m\u001b[0m\n\u001b[0;32m----> 1\u001b[0;31m \u001b[0mlx\u001b[0m\u001b[0;34m=\u001b[0m\u001b[0;34m(\u001b[0m\u001b[0;34m-\u001b[0m\u001b[0;36m1\u001b[0m\u001b[0;34m*\u001b[0m\u001b[0mpsf\u001b[0m\u001b[0;34m[\u001b[0m\u001b[0;36m0\u001b[0m\u001b[0;34m]\u001b[0m\u001b[0;34m.\u001b[0m\u001b[0mdata\u001b[0m\u001b[0;34m.\u001b[0m\u001b[0mshape\u001b[0m\u001b[0;34m[\u001b[0m\u001b[0;36m0\u001b[0m\u001b[0;34m]\u001b[0m\u001b[0;34m/\u001b[0m\u001b[0;36m2\u001b[0m\u001b[0;34m)\u001b[0m\u001b[0;34m*\u001b[0m\u001b[0mpsf\u001b[0m\u001b[0;34m[\u001b[0m\u001b[0;36m0\u001b[0m\u001b[0;34m]\u001b[0m\u001b[0;34m.\u001b[0m\u001b[0mheader\u001b[0m\u001b[0;34m[\u001b[0m\u001b[0;34m'PIXELSCL'\u001b[0m\u001b[0;34m]\u001b[0m\u001b[0;34m*\u001b[0m\u001b[0;36m1e6\u001b[0m\u001b[0;34m\u001b[0m\u001b[0;34m\u001b[0m\u001b[0m\n\u001b[0m\u001b[1;32m      2\u001b[0m \u001b[0mrx\u001b[0m\u001b[0;34m=\u001b[0m\u001b[0;34m(\u001b[0m\u001b[0mpsf\u001b[0m\u001b[0;34m[\u001b[0m\u001b[0;36m0\u001b[0m\u001b[0;34m]\u001b[0m\u001b[0;34m.\u001b[0m\u001b[0mdata\u001b[0m\u001b[0;34m.\u001b[0m\u001b[0mshape\u001b[0m\u001b[0;34m[\u001b[0m\u001b[0;36m0\u001b[0m\u001b[0;34m]\u001b[0m\u001b[0;34m/\u001b[0m\u001b[0;36m2\u001b[0m\u001b[0;34m)\u001b[0m\u001b[0;34m*\u001b[0m\u001b[0mpsf\u001b[0m\u001b[0;34m[\u001b[0m\u001b[0;36m0\u001b[0m\u001b[0;34m]\u001b[0m\u001b[0;34m.\u001b[0m\u001b[0mheader\u001b[0m\u001b[0;34m[\u001b[0m\u001b[0;34m'PIXELSCL'\u001b[0m\u001b[0;34m]\u001b[0m\u001b[0;34m*\u001b[0m\u001b[0;36m1e6\u001b[0m\u001b[0;34m\u001b[0m\u001b[0;34m\u001b[0m\u001b[0m\n\u001b[1;32m      3\u001b[0m \u001b[0;34m\u001b[0m\u001b[0m\n\u001b[1;32m      4\u001b[0m \u001b[0;34m\u001b[0m\u001b[0m\n\u001b[1;32m      5\u001b[0m \u001b[0mplt\u001b[0m\u001b[0;34m.\u001b[0m\u001b[0mclf\u001b[0m\u001b[0;34m(\u001b[0m\u001b[0;34m)\u001b[0m\u001b[0;34m\u001b[0m\u001b[0;34m\u001b[0m\u001b[0m\n",
      "\u001b[0;31mNameError\u001b[0m: name 'psf' is not defined"
     ]
    }
   ],
   "source": [
    "lx=(-1*psf[0].data.shape[0]/2)*psf[0].header['PIXELSCL']*1e6 \n",
    "rx=(psf[0].data.shape[0]/2)*psf[0].header['PIXELSCL']*1e6 \n",
    "\n",
    "\n",
    "plt.clf()\n",
    "\n",
    "\n",
    "ap.display()\n",
    "plt.figure()\n",
    "\n",
    "plt.imshow(psf[0].data,extent=[lx,rx,lx,rx])\n",
    "plt.xlabel('microns')\n",
    "plt.ylabel('microns')\n",
    "plt.title('Micro Pupil')\n",
    "\n",
    "plt.show()"
   ]
  }
 ],
 "metadata": {
  "kernelspec": {
   "display_name": "Python 3",
   "language": "python",
   "name": "python3"
  },
  "language_info": {
   "codemirror_mode": {
    "name": "ipython",
    "version": 3
   },
   "file_extension": ".py",
   "mimetype": "text/x-python",
   "name": "python",
   "nbconvert_exporter": "python",
   "pygments_lexer": "ipython3",
   "version": "3.6.9"
  }
 },
 "nbformat": 4,
 "nbformat_minor": 5
}
